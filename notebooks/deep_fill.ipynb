{
 "cells": [
  {
   "cell_type": "code",
   "execution_count": 27,
   "metadata": {},
   "outputs": [],
   "source": [
    "%%capture   \n",
    "import tensorflow as tf\n",
    "import dip\n",
    "import dip.deep_fill.inpaint_model as deep_fill_model\n",
    "import neuralgym as ng"
   ]
  },
  {
   "cell_type": "code",
   "execution_count": 60,
   "metadata": {},
   "outputs": [],
   "source": [
    "# It's annoying how FLAGS are so ingrained in the model code.\n",
    "#FLAGS = ng.Config('../deep_fill/inpaint.yml')\n",
    "\n",
    "# How to choose the correct shape.\n",
    "# The file data_from_fnames.py has the comment:\n",
    "#            A tensor with shape [batch_size] and self.shapes\n",
    "#              e.g. if self.shapes = ([256, 256, 3], [1]), then return\n",
    "#              [[batch_size, 256, 256, 3], [batch_size, 1]].'''\n",
    "batch_size = 1\n",
    "#shape = [[1, 256, 256, 3], [batch_size, 1]]\n",
    "#fake_images = tf.zeros(shape)\n",
    "# Use the default name, as otherwise the test.py script won't work.\n",
    "net_name = 'inpaint_net'\n",
    "\n",
    "def run():\n",
    "    with tf.Graph().as_default():\n",
    "        model = deep_fill.inpaint_model.InpaintCAModel()\n",
    "        incomplete_image = tf.zeros([batch_size, 256, 256, 3], tf.float32)\n",
    "        mask = tf.ones([batch_size, 256, 256, 0], tf.float32)\n",
    "        stage_1, stage_2, offset_flow = model.build_inpaint_net(\n",
    "            x=incomplete_image,\n",
    "            mask=mask,\n",
    "            training=False,\n",
    "            name=net_name)\n",
    "        trainable_vars = tf.trainable_variables('')\n",
    "        global_vars = tf.global_variables()\n",
    "        with tf.Session() as sess:\n",
    "            sess.run(tf.global_variables_initializer())\n",
    "            saver = tf.train.Saver(global_vars)\n",
    "            saver.save(sess, '../data/no_training')\n",
    "            trainable_vals = sess.run([trainable_vars])\n",
    "    "
   ]
  },
  {
   "cell_type": "code",
   "execution_count": 61,
   "metadata": {},
   "outputs": [],
   "source": [
    "run();"
   ]
  },
  {
   "cell_type": "code",
   "execution_count": null,
   "metadata": {},
   "outputs": [],
   "source": [
    "def fill():\n",
    "    "
   ]
  }
 ],
 "metadata": {
  "kernelspec": {
   "display_name": "Python 3",
   "language": "python",
   "name": "python3"
  },
  "language_info": {
   "codemirror_mode": {
    "name": "ipython",
    "version": 3
   },
   "file_extension": ".py",
   "mimetype": "text/x-python",
   "name": "python",
   "nbconvert_exporter": "python",
   "pygments_lexer": "ipython3",
   "version": "3.7.5"
  }
 },
 "nbformat": 4,
 "nbformat_minor": 4
}
